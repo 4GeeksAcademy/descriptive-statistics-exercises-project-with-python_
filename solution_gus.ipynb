{
 "cells": [
  {
   "cell_type": "code",
   "execution_count": 2,
   "metadata": {},
   "outputs": [
    {
     "name": "stdout",
     "output_type": "stream",
     "text": [
      "[4, 2, 5, 8, 6]\n",
      "2.23606797749979\n"
     ]
    }
   ],
   "source": [
    "import math\n",
    "import sys\n",
    "\n",
    "# Define the standard deviation function\n",
    "\n",
    "def sd_calc(data):\n",
    "    mean = avg_calc(data)\n",
    "    variance = sum((x - mean)**2 for x in data) / (len(data)-1)\n",
    "    standard_deviation = math.sqrt(variance)\n",
    "    return standard_deviation\n",
    "  \n",
    "\n",
    "# Define the average function\n",
    "\n",
    "def avg_calc(ls):\n",
    "    return sum(ls) / len(ls)\n",
    "\n",
    "\n",
    "data = [4, 2, 5, 8, 6]\n",
    "\n",
    "#print the data\n",
    "print(data)\n",
    "\n",
    "#print the standard deviation of the data\n",
    "print(sd_calc(data))"
   ]
  }
 ],
 "metadata": {
  "kernelspec": {
   "display_name": "Python 3",
   "language": "python",
   "name": "python3"
  },
  "language_info": {
   "codemirror_mode": {
    "name": "ipython",
    "version": 3
   },
   "file_extension": ".py",
   "mimetype": "text/x-python",
   "name": "python",
   "nbconvert_exporter": "python",
   "pygments_lexer": "ipython3",
   "version": "3.11.4"
  }
 },
 "nbformat": 4,
 "nbformat_minor": 2
}
