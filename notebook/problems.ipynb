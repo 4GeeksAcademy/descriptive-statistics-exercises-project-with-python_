{
    "cells": [
        {
            "cell_type": "markdown",
            "id": "ac622319",
            "metadata": {},
            "source": [
                "# Descriptive statistics problems"
            ]
        },
        {
            "cell_type": "markdown",
            "id": "aa8993e4",
            "metadata": {},
            "source": [
                "### Exercise 1"
            ]
        },
        {
            "cell_type": "markdown",
            "id": "5e0ab0d5",
            "metadata": {},
            "source": [
                "We will use Numpy to obtain information to describe statistically.\n",
                "\n",
                "- Generate an array of 100 elements following a normal distribution.\n",
                "- Generate an array of 100 elements following a chi-square distribution with 3 degrees of freedom.\n",
                "- Calculate the main metrics and statistical measures that best describe the two vectors."
            ]
        },
        {
            "cell_type": "code",
            "execution_count": 1,
            "id": "34720ab6",
            "metadata": {},
            "outputs": [
                {
                    "data": {
                        "text/plain": [
                            "array([ 1.32921217e+00, -7.70033452e-01, -3.16280360e-01, -9.90810387e-01,\n",
                            "       -1.07081626e+00, -1.43871328e+00,  5.64416852e-01,  2.95721888e-01,\n",
                            "       -1.62640423e+00,  2.19565199e-01,  6.78804799e-01,  1.88927273e+00,\n",
                            "        9.61538399e-01,  1.04011196e-01, -4.81165317e-01,  8.50228531e-01,\n",
                            "        1.45342467e+00,  1.05773744e+00,  1.65561607e-01,  5.15018378e-01,\n",
                            "       -1.33693569e+00,  5.62861137e-01,  1.39285483e+00, -6.33279835e-02,\n",
                            "        1.21668362e-01,  1.20760254e+00, -2.04021491e-03,  1.62779574e+00,\n",
                            "        3.54492786e-01,  1.03752763e+00, -3.85683513e-01,  5.19818001e-01,\n",
                            "        1.68658289e+00, -1.32596315e+00,  1.42898370e+00, -2.08935428e+00,\n",
                            "       -1.29819937e-01,  6.31522949e-01, -5.86538064e-01,  2.90720081e-01,\n",
                            "        1.26410337e+00,  2.90034782e-01, -1.97028850e+00,  8.03905889e-01,\n",
                            "        1.03055033e+00,  1.18097936e-01, -2.18533273e-02,  4.68407139e-02,\n",
                            "       -1.62875286e+00, -3.92360590e-01,  1.70097271e+00,  1.06132976e+00,\n",
                            "        6.95803574e-01, -4.35988570e-01, -3.32941620e-01,  6.02134563e-01,\n",
                            "        1.08788959e-01,  3.67669286e-02, -5.38963407e-01,  4.99177887e-01,\n",
                            "       -7.11951757e-01, -2.37000969e-01,  8.57119235e-01, -1.88235190e+00,\n",
                            "        4.20705086e-01, -1.06917534e+00, -2.57685880e+00, -1.22492344e+00,\n",
                            "       -1.15675186e+00,  9.31304271e-01,  9.84257148e-01,  2.22615937e+00,\n",
                            "       -4.18503915e-01, -3.33777673e-01, -1.47426869e-01,  1.56130767e+00,\n",
                            "        6.84709996e-01,  2.94623651e-02, -8.52474920e-01,  1.98141717e+00,\n",
                            "       -1.63019863e+00, -2.35034324e-01, -1.64071261e-01,  6.58479613e-01,\n",
                            "       -1.30789212e+00,  1.35378504e+00, -1.28522651e-01, -9.73279189e-01,\n",
                            "       -6.94448784e-01, -4.88414674e-02, -5.79608261e-01,  8.71106114e-01,\n",
                            "       -9.70320260e-01,  4.23359442e-01,  1.97424450e+00,  3.06420378e-01,\n",
                            "        9.99261932e-01,  8.72336098e-01, -1.86798030e+00,  1.23074409e+00])"
                        ]
                    },
                    "execution_count": 1,
                    "metadata": {},
                    "output_type": "execute_result"
                }
            ],
            "source": [
                "# TODO\n",
                "import numpy as np\n",
                "np.random.seed(24)\n",
                "array_normal = np.random.normal(size=100)\n",
                "array_normal"
            ]
        },
        {
            "cell_type": "code",
            "execution_count": 2,
            "id": "fe1ec587",
            "metadata": {},
            "outputs": [
                {
                    "data": {
                        "text/plain": [
                            "array([ 1.03385919,  1.71460876,  0.78070248,  3.77732152,  3.03224013,\n",
                            "        4.12835328,  9.25665933,  1.44060447,  4.69411281,  2.70957227,\n",
                            "        3.63209778,  6.82092162,  2.19918546,  2.32892874,  7.91204955,\n",
                            "        1.5953951 ,  3.64604173,  6.98173326,  0.1045772 ,  1.28177931,\n",
                            "        3.019391  ,  0.14050377,  4.53644105,  2.28644241,  2.43599059,\n",
                            "        8.27423506,  5.45900166,  1.68546628,  3.89077513,  1.35195698,\n",
                            "        3.58633005,  1.10851037,  1.85788609,  3.3652619 ,  0.70192278,\n",
                            "        0.56144462,  0.62036522,  4.97879355,  1.54099844,  1.6840127 ,\n",
                            "        4.14704254,  2.39755976,  0.28629214,  1.86153818,  1.99654226,\n",
                            "        4.0644558 ,  2.06655913,  0.79909753,  1.29184667,  4.76635364,\n",
                            "        9.72432686,  3.05984572,  0.17726603,  6.12971375,  2.06657482,\n",
                            "        4.66483567,  2.80523087,  0.51449737,  3.51898085,  5.19420765,\n",
                            "        6.80520087,  1.60142396,  0.2243366 , 10.48458967,  2.34995122,\n",
                            "        1.23672285,  2.48549985,  1.64937961,  0.87930273,  2.67278722,\n",
                            "        0.40130304,  3.79492533,  1.00760323,  8.28829973,  4.17404487,\n",
                            "        0.19745416,  3.89252037,  1.33158713,  1.52749896,  1.97637855,\n",
                            "        4.30611607,  3.06799067,  0.87298812,  0.99026515,  6.88067251,\n",
                            "        0.36710251,  0.77452391,  3.32805685,  1.49653919,  4.61188484,\n",
                            "        2.5115379 ,  2.00007089,  1.98536862,  9.00634214,  6.94183569,\n",
                            "        3.77490388,  6.11944357,  3.54196443,  1.17083856,  9.51923326])"
                        ]
                    },
                    "execution_count": 2,
                    "metadata": {},
                    "output_type": "execute_result"
                }
            ],
            "source": [
                "np.random.seed(24)\n",
                "array_chi = np.random.chisquare(3, 100)\n",
                "array_chi"
            ]
        },
        {
            "cell_type": "code",
            "execution_count": 4,
            "id": "1d56e2c4",
            "metadata": {},
            "outputs": [],
            "source": [
                "import statistics as st"
            ]
        },
        {
            "cell_type": "code",
            "execution_count": 5,
            "id": "3e72f51b",
            "metadata": {},
            "outputs": [
                {
                    "name": "stdout",
                    "output_type": "stream",
                    "text": [
                        "Mean\n",
                        "0.1042520174848738\n",
                        "3.1393772955236705\n",
                        "0.1042520174848738\n",
                        "3.1393772955236705\n",
                        "Median\n",
                        "0.11988314864885749\n",
                        "2.4167751736292233\n",
                        "0.11988314864885749\n",
                        "2.4167751736292233\n",
                        "Mode\n",
                        "1.3292121726491863\n",
                        "1.0338591885640078\n",
                        "Standard\n",
                        "1.0344696674218126\n",
                        "2.4609592635144115\n",
                        "Range\n",
                        "4.80301817031498\n",
                        "10.38001246812158\n"
                    ]
                }
            ],
            "source": [
                "print('Mean')\n",
                "print(np.mean(array_normal))\n",
                "print(np.mean(array_chi))\n",
                "print(st.mean(array_normal))\n",
                "print(st.mean(array_chi))\n",
                "print('Median')\n",
                "print(np.median(array_normal))\n",
                "print(np.median(array_chi))\n",
                "print(st.median(array_normal))\n",
                "print(st.median(array_chi))\n",
                "print('Mode')\n",
                "print(st.mode(array_normal))\n",
                "print(st.mode(array_chi))\n",
                "print('Standard')\n",
                "print(np.std(array_normal))\n",
                "print(np.std(array_chi))\n",
                "print('Range')\n",
                "range_array_normal = array_normal.max()-array_normal.min()\n",
                "print(range_array_normal)\n",
                "range_array_chi = array_chi.max()-array_chi.min()\n",
                "print(range_array_chi)"
            ]
        },
        {
            "cell_type": "markdown",
            "id": "46c70c3d",
            "metadata": {},
            "source": [
                "### Exercise 2\n",
                "\n",
                "Write a Python program to calculate the standard deviation of the following data:\n",
                "\n",
                "```py\n",
                "data = [4, 2, 5, 8, 6]\n",
                "```"
            ]
        },
        {
            "cell_type": "code",
            "execution_count": 6,
            "id": "d590308e",
            "metadata": {},
            "outputs": [
                {
                    "data": {
                        "text/plain": [
                            "2.0"
                        ]
                    },
                    "execution_count": 6,
                    "metadata": {},
                    "output_type": "execute_result"
                }
            ],
            "source": [
                "import math\n",
                "\n",
                "data = [4, 2, 5, 8, 6]\n",
                "\n",
                "def mean_fnc(data):\n",
                "    return int(sum(data)/len(data))\n",
                "\n",
                "def st_fnc(data):\n",
                "\n",
                "    result1 = sum(((x-mean_fnc(data))**2)for x in data)/len(data)\n",
                "    deviation = math.sqrt(result1)\n",
                "    return deviation\n",
                "\n",
                "st_fnc(data)\n",
                "\n",
                "#σ = √(∑(x−¯x) ( x − x ¯ ) 2 /n), where n = total\n"
            ]
        },
        {
            "cell_type": "code",
            "execution_count": 64,
            "id": "2571bffe",
            "metadata": {},
            "outputs": [
                {
                    "data": {
                        "text/plain": [
                            "2.0"
                        ]
                    },
                    "execution_count": 64,
                    "metadata": {},
                    "output_type": "execute_result"
                }
            ],
            "source": [
                "np.std(data)"
            ]
        },
        {
            "cell_type": "code",
            "execution_count": 41,
            "id": "148929b6",
            "metadata": {},
            "outputs": [
                {
                    "name": "stdout",
                    "output_type": "stream",
                    "text": [
                        "[4, 2, 5, 8, 6]\n",
                        "2.23606797749979\n"
                    ]
                }
            ],
            "source": []
        }
    ],
    "metadata": {
        "interpreter": {
            "hash": "9248718ffe6ce6938b217e69dbcc175ea21f4c6b28a317e96c05334edae734bb"
        },
        "kernelspec": {
            "display_name": "Python 3.9.12 ('ML-BOOTCAMP')",
            "language": "python",
            "name": "python3"
        },
        "language_info": {
            "codemirror_mode": {
                "name": "ipython",
                "version": 3
            },
            "file_extension": ".py",
            "mimetype": "text/x-python",
            "name": "python",
            "nbconvert_exporter": "python",
            "pygments_lexer": "ipython3",
            "version": "3.11.4"
        }
    },
    "nbformat": 4,
    "nbformat_minor": 5
}
